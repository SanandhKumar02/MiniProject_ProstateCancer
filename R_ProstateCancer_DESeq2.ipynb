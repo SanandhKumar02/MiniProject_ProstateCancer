{
  "nbformat": 4,
  "nbformat_minor": 0,
  "metadata": {
    "colab": {
      "name": "R_ProstateCancer_DESeq2.ipynb",
      "provenance": [],
      "authorship_tag": "ABX9TyNU/jZholfL5CoAU8FghaIb",
      "include_colab_link": true
    },
    "kernelspec": {
      "name": "ir",
      "display_name": "R"
    },
    "language_info": {
      "name": "R"
    }
  },
  "cells": [
    {
      "cell_type": "markdown",
      "metadata": {
        "id": "view-in-github",
        "colab_type": "text"
      },
      "source": [
        "<a href=\"https://colab.research.google.com/github/SanandhKumar02/MiniProject_ProstateCancer/blob/main/R_ProstateCancer_DESeq2.ipynb\" target=\"_parent\"><img src=\"https://colab.research.google.com/assets/colab-badge.svg\" alt=\"Open In Colab\"/></a>"
      ]
    },
    {
      "cell_type": "code",
      "execution_count": null,
      "metadata": {
        "colab": {
          "base_uri": "https://localhost:8080/"
        },
        "id": "j7QjuyPm-OqQ",
        "outputId": "0488b7b1-355f-4c42-e7b1-a982c429afd0"
      },
      "outputs": [
        {
          "output_type": "stream",
          "name": "stderr",
          "text": [
            "Installing package into ‘/usr/local/lib/R/site-library’\n",
            "(as ‘lib’ is unspecified)\n",
            "\n"
          ]
        }
      ],
      "source": [
        "if (!requireNamespace(\"BiocManager\", quietly=TRUE))\n",
        "    install.packages(\"BiocManager\")"
      ]
    },
    {
      "cell_type": "code",
      "source": [
        "BiocManager::install(\"TCGAbiolinks\")"
      ],
      "metadata": {
        "colab": {
          "base_uri": "https://localhost:8080/"
        },
        "id": "qNhTcKxj-ftZ",
        "outputId": "1bf5dd2c-f382-41c6-b488-4c93ead8543e"
      },
      "execution_count": null,
      "outputs": [
        {
          "output_type": "stream",
          "name": "stderr",
          "text": [
            "'getOption(\"repos\")' replaces Bioconductor standard repositories, see\n",
            "'?repositories' for details\n",
            "\n",
            "replacement repositories:\n",
            "    CRAN: https://cran.rstudio.com\n",
            "\n",
            "\n",
            "Bioconductor version 3.14 (BiocManager 1.30.16), R 4.1.3 (2022-03-10)\n",
            "\n",
            "Installing package(s) 'BiocVersion', 'TCGAbiolinks'\n",
            "\n",
            "also installing the dependencies ‘plogr’, ‘png’, ‘Biostrings’, ‘bitops’, ‘RSQLite’, ‘KEGGREST’, ‘filelock’, ‘RCurl’, ‘GenomeInfoDbData’, ‘zlibbioc’, ‘matrixStats’, ‘AnnotationDbi’, ‘BiocFileCache’, ‘BiocGenerics’, ‘GenomeInfoDb’, ‘XVector’, ‘Rcpp’, ‘R.oo’, ‘R.methodsS3’, ‘MatrixGenerics’, ‘Biobase’, ‘DelayedArray’, ‘downloader’, ‘biomaRt’, ‘GenomicRanges’, ‘XML’, ‘plyr’, ‘IRanges’, ‘S4Vectors’, ‘R.utils’, ‘SummarizedExperiment’, ‘TCGAbiolinksGUI.data’\n",
            "\n",
            "\n",
            "Old packages: 'blob', 'broom', 'haven', 'RColorBrewer', 'scales', 'vctrs'\n",
            "\n"
          ]
        }
      ]
    },
    {
      "cell_type": "code",
      "source": [
        "library(TCGAbiolinks)"
      ],
      "metadata": {
        "id": "Fu7YpgxCC3LI"
      },
      "execution_count": null,
      "outputs": []
    },
    {
      "cell_type": "code",
      "source": [
        "query <- GDCquery(project = \"TCGA-PRAD\", \n",
        "                  data.category = \"Gene expression\",\n",
        "                  data.type = \"Gene expression quantification\",\n",
        "                  experimental.strategy = \"RNA-Seq\",\n",
        "                  platform = \"Illumina HiSeq\",\n",
        "                  file.type = \"results\",\n",
        "                  legacy = TRUE)"
      ],
      "metadata": {
        "colab": {
          "base_uri": "https://localhost:8080/"
        },
        "id": "fNJ4c6naDAHs",
        "outputId": "657c4aa9-c08d-4e4b-b55e-96d71c665eb9"
      },
      "execution_count": null,
      "outputs": [
        {
          "output_type": "stream",
          "name": "stderr",
          "text": [
            "--------------------------------------\n",
            "\n",
            "o GDCquery: Searching in GDC database\n",
            "\n",
            "--------------------------------------\n",
            "\n",
            "Genome of reference: hg19\n",
            "\n",
            "--------------------------------------------\n",
            "\n",
            "oo Accessing GDC. This might take a while...\n",
            "\n",
            "--------------------------------------------\n",
            "\n",
            "ooo Project: TCGA-PRAD\n",
            "\n",
            "--------------------\n",
            "\n",
            "oo Filtering results\n",
            "\n",
            "--------------------\n",
            "\n",
            "ooo By platform\n",
            "\n",
            "ooo By experimental.strategy\n",
            "\n",
            "ooo By data.type\n",
            "\n",
            "ooo By file.type\n",
            "\n",
            "----------------\n",
            "\n",
            "oo Checking data\n",
            "\n",
            "----------------\n",
            "\n",
            "ooo Check if there are duplicated cases\n",
            "\n",
            "ooo Check if there results for the query\n",
            "\n",
            "-------------------\n",
            "\n",
            "o Preparing output\n",
            "\n",
            "-------------------\n",
            "\n"
          ]
        }
      ]
    },
    {
      "cell_type": "code",
      "source": [
        "GDCdownload(query, method = \"api\", files.per.chunk = 100,\n",
        "            directory = \"/content/Data\")"
      ],
      "metadata": {
        "colab": {
          "base_uri": "https://localhost:8080/"
        },
        "id": "mxrqTei1DHiU",
        "outputId": "5ce2ab86-5ae4-41c4-8723-dad0c29edea2"
      },
      "execution_count": null,
      "outputs": [
        {
          "output_type": "stream",
          "name": "stderr",
          "text": [
            "Downloading data for project TCGA-PRAD\n",
            "\n",
            "GDCdownload will download 550 files. A total of 834.121914 MB\n",
            "\n",
            "Downloading chunk 1 of 6 (100 files, size = 151.869266 MB) as Sun_Apr_17_05_44_29_2022_0.tar.gz\n",
            "\n"
          ]
        },
        {
          "output_type": "stream",
          "name": "stdout",
          "text": [
            "Downloading: 61 MB     "
          ]
        },
        {
          "output_type": "stream",
          "name": "stderr",
          "text": [
            "Downloading chunk 2 of 6 (100 files, size = 151.619367 MB) as Sun_Apr_17_05_44_29_2022_1.tar.gz\n",
            "\n"
          ]
        },
        {
          "output_type": "stream",
          "name": "stdout",
          "text": [
            "Downloading: 61 MB     "
          ]
        },
        {
          "output_type": "stream",
          "name": "stderr",
          "text": [
            "Downloading chunk 3 of 6 (100 files, size = 151.62918 MB) as Sun_Apr_17_05_44_29_2022_2.tar.gz\n",
            "\n"
          ]
        },
        {
          "output_type": "stream",
          "name": "stdout",
          "text": [
            "Downloading: 61 MB     "
          ]
        },
        {
          "output_type": "stream",
          "name": "stderr",
          "text": [
            "Downloading chunk 4 of 6 (100 files, size = 151.582944 MB) as Sun_Apr_17_05_44_29_2022_3.tar.gz\n",
            "\n"
          ]
        },
        {
          "output_type": "stream",
          "name": "stdout",
          "text": [
            "Downloading: 61 MB     "
          ]
        },
        {
          "output_type": "stream",
          "name": "stderr",
          "text": [
            "Downloading chunk 5 of 6 (100 files, size = 151.708686 MB) as Sun_Apr_17_05_44_29_2022_4.tar.gz\n",
            "\n"
          ]
        },
        {
          "output_type": "stream",
          "name": "stdout",
          "text": [
            "Downloading: 61 MB     "
          ]
        },
        {
          "output_type": "stream",
          "name": "stderr",
          "text": [
            "Downloading chunk 6 of 6 (50 files, size = 75.712471 MB) as Sun_Apr_17_05_44_29_2022_5.tar.gz\n",
            "\n"
          ]
        },
        {
          "output_type": "stream",
          "name": "stdout",
          "text": [
            "Downloading: 30 MB     "
          ]
        }
      ]
    },
    {
      "cell_type": "code",
      "source": [
        "mrna_df <- GDCprepare(query, directory = \"/content/Data\")"
      ],
      "metadata": {
        "colab": {
          "base_uri": "https://localhost:8080/"
        },
        "id": "4YWrdvp5EWRz",
        "outputId": "40e3adec-4d80-48fb-d1f3-c7ea9f7614a7"
      },
      "execution_count": null,
      "outputs": [
        {
          "output_type": "stream",
          "name": "stderr",
          "text": [
            "--------------------\n",
            "\n",
            "oo Reading 550 files\n",
            "\n",
            "--------------------\n",
            "\n"
          ]
        },
        {
          "output_type": "stream",
          "name": "stdout",
          "text": [
            "|====================================================|100%                      Completed after 15 s \n"
          ]
        },
        {
          "output_type": "stream",
          "name": "stderr",
          "text": [
            "--------------------\n",
            "\n",
            "oo Merging 550 files\n",
            "\n",
            "--------------------\n",
            "\n",
            "Starting to add information to samples\n",
            "\n",
            " => Add clinical information to samples\n",
            "\n",
            " => Adding TCGA molecular information from marker papers\n",
            "\n",
            " => Information will have prefix 'paper_' \n",
            "\n",
            "prad subtype information from:doi:10.1016/j.cell.2015.10.025\n",
            "\n"
          ]
        }
      ]
    },
    {
      "cell_type": "code",
      "source": [
        "mrna_meta <- mrna_df$sample"
      ],
      "metadata": {
        "id": "mPF0I6dYEptR"
      },
      "execution_count": null,
      "outputs": []
    },
    {
      "cell_type": "code",
      "source": [
        "mrna_meta <- cbind(mrna_meta, mrna_df$definition)"
      ],
      "metadata": {
        "id": "yBANGIsaEvg4"
      },
      "execution_count": null,
      "outputs": []
    },
    {
      "cell_type": "code",
      "source": [
        "BiocManager::install(\"SummarizedExperiment\")"
      ],
      "metadata": {
        "colab": {
          "base_uri": "https://localhost:8080/"
        },
        "id": "ChDzXdnBEy5e",
        "outputId": "ce369361-1a49-4205-f814-7a7288055009"
      },
      "execution_count": null,
      "outputs": [
        {
          "output_type": "stream",
          "name": "stderr",
          "text": [
            "'getOption(\"repos\")' replaces Bioconductor standard repositories, see\n",
            "'?repositories' for details\n",
            "\n",
            "replacement repositories:\n",
            "    CRAN: https://cran.rstudio.com\n",
            "\n",
            "\n",
            "Bioconductor version 3.14 (BiocManager 1.30.16), R 4.1.3 (2022-03-10)\n",
            "\n",
            "Warning message:\n",
            "“package(s) not installed when version(s) same as current; use `force = TRUE` to\n",
            "  re-install: 'SummarizedExperiment'”\n",
            "Old packages: 'blob', 'broom', 'haven', 'RColorBrewer', 'scales', 'vctrs'\n",
            "\n"
          ]
        }
      ]
    },
    {
      "cell_type": "code",
      "source": [
        "library(SummarizedExperiment)"
      ],
      "metadata": {
        "colab": {
          "base_uri": "https://localhost:8080/"
        },
        "id": "wfDdXlMeFCnn",
        "outputId": "5311b338-3736-49ad-cfaf-144c5ec38b83"
      },
      "execution_count": null,
      "outputs": [
        {
          "output_type": "stream",
          "name": "stderr",
          "text": [
            "Loading required package: MatrixGenerics\n",
            "\n",
            "Loading required package: matrixStats\n",
            "\n",
            "\n",
            "Attaching package: ‘MatrixGenerics’\n",
            "\n",
            "\n",
            "The following objects are masked from ‘package:matrixStats’:\n",
            "\n",
            "    colAlls, colAnyNAs, colAnys, colAvgsPerRowSet, colCollapse,\n",
            "    colCounts, colCummaxs, colCummins, colCumprods, colCumsums,\n",
            "    colDiffs, colIQRDiffs, colIQRs, colLogSumExps, colMadDiffs,\n",
            "    colMads, colMaxs, colMeans2, colMedians, colMins, colOrderStats,\n",
            "    colProds, colQuantiles, colRanges, colRanks, colSdDiffs, colSds,\n",
            "    colSums2, colTabulates, colVarDiffs, colVars, colWeightedMads,\n",
            "    colWeightedMeans, colWeightedMedians, colWeightedSds,\n",
            "    colWeightedVars, rowAlls, rowAnyNAs, rowAnys, rowAvgsPerColSet,\n",
            "    rowCollapse, rowCounts, rowCummaxs, rowCummins, rowCumprods,\n",
            "    rowCumsums, rowDiffs, rowIQRDiffs, rowIQRs, rowLogSumExps,\n",
            "    rowMadDiffs, rowMads, rowMaxs, rowMeans2, rowMedians, rowMins,\n",
            "    rowOrderStats, rowProds, rowQuantiles, rowRanges, rowRanks,\n",
            "    rowSdDiffs, rowSds, rowSums2, rowTabulates, rowVarDiffs, rowVars,\n",
            "    rowWeightedMads, rowWeightedMeans, rowWeightedMedians,\n",
            "    rowWeightedSds, rowWeightedVars\n",
            "\n",
            "\n",
            "Loading required package: GenomicRanges\n",
            "\n",
            "Loading required package: stats4\n",
            "\n",
            "Loading required package: BiocGenerics\n",
            "\n",
            "\n",
            "Attaching package: ‘BiocGenerics’\n",
            "\n",
            "\n",
            "The following objects are masked from ‘package:stats’:\n",
            "\n",
            "    IQR, mad, sd, var, xtabs\n",
            "\n",
            "\n",
            "The following objects are masked from ‘package:base’:\n",
            "\n",
            "    anyDuplicated, append, as.data.frame, basename, cbind, colnames,\n",
            "    dirname, do.call, duplicated, eval, evalq, Filter, Find, get, grep,\n",
            "    grepl, intersect, is.unsorted, lapply, Map, mapply, match, mget,\n",
            "    order, paste, pmax, pmax.int, pmin, pmin.int, Position, rank,\n",
            "    rbind, Reduce, rownames, sapply, setdiff, sort, table, tapply,\n",
            "    union, unique, unsplit, which.max, which.min\n",
            "\n",
            "\n",
            "Loading required package: S4Vectors\n",
            "\n",
            "\n",
            "Attaching package: ‘S4Vectors’\n",
            "\n",
            "\n",
            "The following objects are masked from ‘package:base’:\n",
            "\n",
            "    expand.grid, I, unname\n",
            "\n",
            "\n",
            "Loading required package: IRanges\n",
            "\n",
            "Loading required package: GenomeInfoDb\n",
            "\n",
            "Loading required package: Biobase\n",
            "\n",
            "Welcome to Bioconductor\n",
            "\n",
            "    Vignettes contain introductory material; view with\n",
            "    'browseVignettes()'. To cite Bioconductor, see\n",
            "    'citation(\"Biobase\")', and for packages 'citation(\"pkgname\")'.\n",
            "\n",
            "\n",
            "\n",
            "Attaching package: ‘Biobase’\n",
            "\n",
            "\n",
            "The following object is masked from ‘package:MatrixGenerics’:\n",
            "\n",
            "    rowMedians\n",
            "\n",
            "\n",
            "The following objects are masked from ‘package:matrixStats’:\n",
            "\n",
            "    anyMissing, rowMedians\n",
            "\n",
            "\n"
          ]
        }
      ]
    },
    {
      "cell_type": "code",
      "source": [
        "mrna_df <- assay(mrna_df)"
      ],
      "metadata": {
        "id": "H-T46TqDFE54"
      },
      "execution_count": null,
      "outputs": []
    },
    {
      "cell_type": "code",
      "source": [
        "delim_fn = function(x, n, i){\n",
        "    do.call(c, lapply(x, function(X)\n",
        "        paste(unlist(strsplit(X, \"-\"))[(n+1):(i)], collapse = \"-\")))\n",
        "}"
      ],
      "metadata": {
        "id": "Ghz5fsA4FI0R"
      },
      "execution_count": null,
      "outputs": []
    },
    {
      "cell_type": "code",
      "source": [
        "colnames(mrna_df) <- delim_fn(x = colnames(mrna_df), n = 0, i = 4)"
      ],
      "metadata": {
        "id": "_qnEL35MFLRN"
      },
      "execution_count": null,
      "outputs": []
    },
    {
      "cell_type": "code",
      "source": [
        "mrna_meta <- as.data.frame(mrna_meta)\n",
        "mrna_df <- as.data.frame(mrna_df)"
      ],
      "metadata": {
        "id": "DHbQsgyLFNLo"
      },
      "execution_count": null,
      "outputs": []
    },
    {
      "cell_type": "code",
      "source": [
        "metastatic_key <- mrna_meta[which(mrna_meta[,2] == \"Metastatic\"),]\n",
        "mrna_meta <- mrna_meta[!mrna_meta[,2] == metastatic_key[,2],]\n",
        "mrna_df <- mrna_df[, -grep(paste0(metastatic_key[,1]), colnames(mrna_df))]"
      ],
      "metadata": {
        "id": "hVuMJvKyFQ3R"
      },
      "execution_count": null,
      "outputs": []
    },
    {
      "cell_type": "code",
      "source": [
        "mrna_meta[,2] <- as.character(mrna_meta[,2])"
      ],
      "metadata": {
        "id": "hteTUGmgFXLp"
      },
      "execution_count": null,
      "outputs": []
    },
    {
      "cell_type": "code",
      "source": [
        "mrna_meta[,2] <- gsub(\"Primary solid Tumor\", \"Tumor\", mrna_meta[,2])\n",
        "mrna_meta[,2] <- gsub(\"Solid Tissue Normal\", \"Normal\", mrna_meta[,2])\n",
        "mrna_meta[,2] <- as.factor(mrna_meta[,2])\n",
        "levels(mrna_meta[,2])\n",
        "colnames(mrna_meta) <- c(\"cases\", \"Condition\")"
      ],
      "metadata": {
        "colab": {
          "base_uri": "https://localhost:8080/",
          "height": 34
        },
        "id": "nuck1srJFZmU",
        "outputId": "adb2f89a-1ddd-405a-a64c-98155bc9b2c7"
      },
      "execution_count": null,
      "outputs": [
        {
          "output_type": "display_data",
          "data": {
            "text/html": [
              "<style>\n",
              ".list-inline {list-style: none; margin:0; padding: 0}\n",
              ".list-inline>li {display: inline-block}\n",
              ".list-inline>li:not(:last-child)::after {content: \"\\00b7\"; padding: 0 .5ex}\n",
              "</style>\n",
              "<ol class=list-inline><li>'Normal'</li><li>'Tumor'</li></ol>\n"
            ],
            "text/markdown": "1. 'Normal'\n2. 'Tumor'\n\n\n",
            "text/latex": "\\begin{enumerate*}\n\\item 'Normal'\n\\item 'Tumor'\n\\end{enumerate*}\n",
            "text/plain": [
              "[1] \"Normal\" \"Tumor\" "
            ]
          },
          "metadata": {}
        }
      ]
    },
    {
      "cell_type": "code",
      "source": [
        "BiocManager::install(\"DESeq2\")"
      ],
      "metadata": {
        "colab": {
          "base_uri": "https://localhost:8080/"
        },
        "id": "C2KpF5mEFlLC",
        "outputId": "484a15b4-682d-4bf5-99e8-6e507b6bdbbe"
      },
      "execution_count": null,
      "outputs": [
        {
          "output_type": "stream",
          "name": "stderr",
          "text": [
            "'getOption(\"repos\")' replaces Bioconductor standard repositories, see\n",
            "'?repositories' for details\n",
            "\n",
            "replacement repositories:\n",
            "    CRAN: https://cran.rstudio.com\n",
            "\n",
            "\n",
            "Bioconductor version 3.14 (BiocManager 1.30.16), R 4.1.3 (2022-03-10)\n",
            "\n",
            "Installing package(s) 'DESeq2'\n",
            "\n",
            "also installing the dependencies ‘formatR’, ‘lambda.r’, ‘futile.options’, ‘xtable’, ‘futile.logger’, ‘snow’, ‘BH’, ‘annotate’, ‘BiocParallel’, ‘genefilter’, ‘locfit’, ‘geneplotter’, ‘RcppArmadillo’\n",
            "\n",
            "\n",
            "Old packages: 'blob', 'broom', 'haven', 'RColorBrewer', 'scales', 'vctrs'\n",
            "\n"
          ]
        }
      ]
    },
    {
      "cell_type": "code",
      "source": [
        "library(DESeq2)"
      ],
      "metadata": {
        "id": "1XHEhmRXGS_q"
      },
      "execution_count": null,
      "outputs": []
    },
    {
      "cell_type": "code",
      "source": [
        "mrna_dds <- DESeqDataSetFromMatrix(round(mrna_df), colData = mrna_meta, design = ~ Condition)"
      ],
      "metadata": {
        "colab": {
          "base_uri": "https://localhost:8080/"
        },
        "id": "HzR7aUHiGYrG",
        "outputId": "cfbc0d27-0341-47ef-94db-ca9d6b6a4014"
      },
      "execution_count": null,
      "outputs": [
        {
          "output_type": "stream",
          "name": "stderr",
          "text": [
            "converting counts to integer mode\n",
            "\n"
          ]
        }
      ]
    },
    {
      "cell_type": "code",
      "source": [
        "mrna_dds$Condition <- relevel(mrna_dds$Condition, ref = \"Normal\")"
      ],
      "metadata": {
        "id": "RLaCduaeGjPQ"
      },
      "execution_count": null,
      "outputs": []
    },
    {
      "cell_type": "code",
      "source": [
        "mrna_dds <- DESeq(mrna_dds)"
      ],
      "metadata": {
        "colab": {
          "base_uri": "https://localhost:8080/"
        },
        "id": "ZjDTyGb0GoZQ",
        "outputId": "efc8f514-dba8-472f-90bf-63d4b3e69659"
      },
      "execution_count": null,
      "outputs": [
        {
          "output_type": "stream",
          "name": "stderr",
          "text": [
            "estimating size factors\n",
            "\n",
            "estimating dispersions\n",
            "\n",
            "gene-wise dispersion estimates\n",
            "\n",
            "mean-dispersion relationship\n",
            "\n",
            "final dispersion estimates\n",
            "\n",
            "fitting model and testing\n",
            "\n",
            "-- replacing outliers and refitting for 1439 genes\n",
            "-- DESeq argument 'minReplicatesForReplace' = 7 \n",
            "-- original counts are preserved in counts(dds)\n",
            "\n",
            "estimating dispersions\n",
            "\n",
            "fitting model and testing\n",
            "\n"
          ]
        }
      ]
    },
    {
      "cell_type": "code",
      "source": [
        "resultsNames(mrna_dds)"
      ],
      "metadata": {
        "colab": {
          "base_uri": "https://localhost:8080/",
          "height": 34
        },
        "id": "If8YxYkBHdBP",
        "outputId": "d3db4f15-edac-47b5-f274-7021ade6d910"
      },
      "execution_count": null,
      "outputs": [
        {
          "output_type": "display_data",
          "data": {
            "text/html": [
              "<style>\n",
              ".list-inline {list-style: none; margin:0; padding: 0}\n",
              ".list-inline>li {display: inline-block}\n",
              ".list-inline>li:not(:last-child)::after {content: \"\\00b7\"; padding: 0 .5ex}\n",
              "</style>\n",
              "<ol class=list-inline><li>'Intercept'</li><li>'Condition_Tumor_vs_Normal'</li></ol>\n"
            ],
            "text/markdown": "1. 'Intercept'\n2. 'Condition_Tumor_vs_Normal'\n\n\n",
            "text/latex": "\\begin{enumerate*}\n\\item 'Intercept'\n\\item 'Condition\\_Tumor\\_vs\\_Normal'\n\\end{enumerate*}\n",
            "text/plain": [
              "[1] \"Intercept\"                 \"Condition_Tumor_vs_Normal\""
            ]
          },
          "metadata": {}
        }
      ]
    },
    {
      "cell_type": "code",
      "source": [
        "mrna_res <- results(mrna_dds, alpha = 0.05, name = \"Condition_Tumor_vs_Normal\")"
      ],
      "metadata": {
        "id": "k4Wgwv5jHhTx"
      },
      "execution_count": null,
      "outputs": []
    },
    {
      "cell_type": "code",
      "source": [
        "summary(mrna_res)"
      ],
      "metadata": {
        "colab": {
          "base_uri": "https://localhost:8080/"
        },
        "id": "Vf5qIRGiHqno",
        "outputId": "0a663f95-ebfe-4791-88ef-10320c394158"
      },
      "execution_count": null,
      "outputs": [
        {
          "output_type": "stream",
          "name": "stdout",
          "text": [
            "\n",
            "out of 19669 with nonzero total read count\n",
            "adjusted p-value < 0.05\n",
            "LFC > 0 (up)       : 6423, 33%\n",
            "LFC < 0 (down)     : 5957, 30%\n",
            "outliers [1]       : 0, 0%\n",
            "low counts [2]     : 0, 0%\n",
            "(mean count < 0)\n",
            "[1] see 'cooksCutoff' argument of ?results\n",
            "[2] see 'independentFiltering' argument of ?results\n",
            "\n"
          ]
        }
      ]
    },
    {
      "cell_type": "code",
      "source": [
        "mrna_res_df <- as.data.frame(mrna_res)"
      ],
      "metadata": {
        "id": "AazhRvpyHwPc"
      },
      "execution_count": 50,
      "outputs": []
    },
    {
      "cell_type": "code",
      "source": [
        "get_upregulated <- function(df){\n",
        "    key <- intersect(rownames(df)[which(df$log2FoldChange>=1)],\n",
        "              rownames(df)[which(df$pvalue<=0.05)])\n",
        "    \n",
        "    results <- as.data.frame((df)[which(rownames(df) %in% key),])\n",
        "    return(results)\n",
        "  }"
      ],
      "metadata": {
        "id": "J8yRQplwI872"
      },
      "execution_count": null,
      "outputs": []
    },
    {
      "cell_type": "code",
      "source": [
        "get_downregulated <- function(df){\n",
        "  key <- intersect(rownames(df)[which(df$log2FoldChange<=-1)],\n",
        "            rownames(df)[which(df$pvalue<=0.05)])\n",
        "  \n",
        "  results <- as.data.frame((df)[which(rownames(df) %in% key),])\n",
        "  return(results)\n",
        "}"
      ],
      "metadata": {
        "id": "qqv1oPvUJAIW"
      },
      "execution_count": null,
      "outputs": []
    },
    {
      "cell_type": "code",
      "source": [
        "mrna_upreg <- get_upregulated(mrna_res)"
      ],
      "metadata": {
        "id": "Ra1b4ZkCJD77"
      },
      "execution_count": null,
      "outputs": []
    },
    {
      "cell_type": "code",
      "source": [
        "mrna_downreg <- get_downregulated(mrna_res)"
      ],
      "metadata": {
        "id": "PVyA1wTvJGCb"
      },
      "execution_count": null,
      "outputs": []
    },
    {
      "cell_type": "code",
      "source": [
        "mrna_counts <- counts(mrna_dds, normalized = T)"
      ],
      "metadata": {
        "id": "WD-xItjBJI_3"
      },
      "execution_count": null,
      "outputs": []
    },
    {
      "cell_type": "code",
      "source": [
        "mrna_upreg$Gene_id <- rownames(mrna_upreg)"
      ],
      "metadata": {
        "id": "LJAXWJVQKa9s"
      },
      "execution_count": null,
      "outputs": []
    },
    {
      "cell_type": "code",
      "source": [
        "mrna_downreg$Gene_id <- rownames(mrna_downreg)"
      ],
      "metadata": {
        "id": "fHqADzNtKfHU"
      },
      "execution_count": null,
      "outputs": []
    },
    {
      "cell_type": "code",
      "source": [
        "write.table(mrna_counts, \"/content/Results/mRNA_norm.counts.txt\", quote = F, sep = \"\\t\")"
      ],
      "metadata": {
        "id": "XzadSEvvJOIq"
      },
      "execution_count": 54,
      "outputs": []
    },
    {
      "cell_type": "code",
      "source": [
        "write.table(mrna_upreg, \"/content/Results/mRNA_upreg.txt\", quote = F, sep = \"\\t\", row.names = F)\n",
        "write.table(mrna_downreg, \"/content/Results/mRNA_downreg.txt\", quote = F, sep = \"\\t\", row.names = F)"
      ],
      "metadata": {
        "id": "30aK64HeJkFb"
      },
      "execution_count": null,
      "outputs": []
    },
    {
      "cell_type": "code",
      "source": [
        "par(mfrow=c(1,1))"
      ],
      "metadata": {
        "id": "USjr0shQOeJw"
      },
      "execution_count": 49,
      "outputs": []
    },
    {
      "cell_type": "code",
      "source": [
        "with(mrna_res_df, plot(log2FoldChange, -log10(pvalue), pch=20, main=\"Volcano plot\", xlim=c(-3,3)))"
      ],
      "metadata": {
        "colab": {
          "base_uri": "https://localhost:8080/",
          "height": 437
        },
        "id": "AC7a4TU1OlOp",
        "outputId": "c3d3e3c3-b3a4-46c5-9444-6e683a60d485"
      },
      "execution_count": 51,
      "outputs": [
        {
          "output_type": "display_data",
          "data": {
            "text/plain": [
              "Plot with title “Volcano plot”"
            ],
            "image/png": "[encoded data removed]"
          },
          "metadata": {
            "image/png": {
              "width": 420,
              "height": 420
            }
          }
        }
      ]
    },
    {
      "cell_type": "code",
      "source": [
        "with(subset(mrna_res_df, padj<0.01 ), points(log2FoldChange, -log10(pvalue), pch=20, col=\"blue\"))"
      ],
      "metadata": {
        "colab": {
          "base_uri": "https://localhost:8080/",
          "height": 311
        },
        "id": "pwl4W_P0O0FC",
        "outputId": "0c4b921f-d2e1-45c5-d2c0-d82741a4be30"
      },
      "execution_count": 53,
      "outputs": [
        {
          "output_type": "error",
          "ename": "ERROR",
          "evalue": "ignored",
          "traceback": [
            "Error in plot.xy(xy.coords(x, y), type = type, ...): plot.new has not been called yet\nTraceback:\n",
            "1. with(subset(mrna_res_df, padj < 0.01), points(log2FoldChange, \n .     -log10(pvalue), pch = 20, col = \"blue\"))",
            "2. with(subset(mrna_res_df, padj < 0.01), points(log2FoldChange, \n .     -log10(pvalue), pch = 20, col = \"blue\"))",
            "3. with.default(subset(mrna_res_df, padj < 0.01), points(log2FoldChange, \n .     -log10(pvalue), pch = 20, col = \"blue\"))",
            "4. eval(substitute(expr), data, enclos = parent.frame())",
            "5. eval(substitute(expr), data, enclos = parent.frame())",
            "6. points(log2FoldChange, -log10(pvalue), pch = 20, col = \"blue\")",
            "7. points.default(log2FoldChange, -log10(pvalue), pch = 20, col = \"blue\")",
            "8. plot.xy(xy.coords(x, y), type = type, ...)"
          ]
        }
      ]
    }
  ]
}