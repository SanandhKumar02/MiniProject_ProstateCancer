{
  "nbformat": 4,
  "nbformat_minor": 0,
  "metadata": {
    "colab": {
      "name": "R_ProstateCancer_DESeq2.ipynb",
      "provenance": [],
      "collapsed_sections": [],
      "authorship_tag": "ABX9TyOcoEvSYODjN3CPGDKyrnms",
      "include_colab_link": true
    },
    "kernelspec": {
      "name": "ir",
      "display_name": "R"
    },
    "language_info": {
      "name": "R"
    },
    "accelerator": "GPU"
  },
  "cells": [
    {
      "cell_type": "markdown",
      "metadata": {
        "id": "view-in-github",
        "colab_type": "text"
      },
      "source": [
        "<a href=\"https://colab.research.google.com/github/SanandhKumar02/MiniProject_ProstateCancer/blob/main/R_ProstateCancer_DESeq2.ipynb\" target=\"_parent\"><img src=\"https://colab.research.google.com/assets/colab-badge.svg\" alt=\"Open In Colab\"/></a>"
      ]
    },
    {
      "cell_type": "code",
      "execution_count": 1,
      "metadata": {
        "id": "j7QjuyPm-OqQ",
        "colab": {
          "base_uri": "https://localhost:8080/"
        },
        "outputId": "e7f555b9-b74d-4be7-85b0-2cd7645e8bf4"
      },
      "outputs": [
        {
          "output_type": "stream",
          "name": "stderr",
          "text": [
            "Installing package into ‘/usr/local/lib/R/site-library’\n",
            "(as ‘lib’ is unspecified)\n",
            "\n"
          ]
        }
      ],
      "source": [
        "if (!requireNamespace(\"BiocManager\", quietly=TRUE))\n",
        "    install.packages(\"BiocManager\")"
      ]
    },
    {
      "cell_type": "code",
      "source": [
        "BiocManager::install(\"TCGAbiolinks\")"
      ],
      "metadata": {
        "colab": {
          "base_uri": "https://localhost:8080/"
        },
        "id": "qNhTcKxj-ftZ",
        "outputId": "5aa1e531-3889-4412-d404-4a9694b36ea9"
      },
      "execution_count": 2,
      "outputs": [
        {
          "output_type": "stream",
          "name": "stderr",
          "text": [
            "'getOption(\"repos\")' replaces Bioconductor standard repositories, see\n",
            "'?repositories' for details\n",
            "\n",
            "replacement repositories:\n",
            "    CRAN: https://cran.rstudio.com\n",
            "\n",
            "\n",
            "Bioconductor version 3.14 (BiocManager 1.30.16), R 4.1.3 (2022-03-10)\n",
            "\n",
            "Installing package(s) 'BiocVersion', 'TCGAbiolinks'\n",
            "\n",
            "also installing the dependencies ‘plogr’, ‘png’, ‘Biostrings’, ‘bitops’, ‘RSQLite’, ‘KEGGREST’, ‘filelock’, ‘RCurl’, ‘GenomeInfoDbData’, ‘zlibbioc’, ‘matrixStats’, ‘AnnotationDbi’, ‘BiocFileCache’, ‘BiocGenerics’, ‘GenomeInfoDb’, ‘XVector’, ‘Rcpp’, ‘R.oo’, ‘R.methodsS3’, ‘MatrixGenerics’, ‘Biobase’, ‘DelayedArray’, ‘downloader’, ‘biomaRt’, ‘GenomicRanges’, ‘XML’, ‘plyr’, ‘IRanges’, ‘S4Vectors’, ‘R.utils’, ‘SummarizedExperiment’, ‘TCGAbiolinksGUI.data’\n",
            "\n",
            "\n",
            "Old packages: 'blob', 'broom', 'haven', 'RColorBrewer', 'scales', 'vctrs'\n",
            "\n"
          ]
        }
      ]
    },
    {
      "cell_type": "code",
      "source": [
        "library(TCGAbiolinks)"
      ],
      "metadata": {
        "id": "Fu7YpgxCC3LI"
      },
      "execution_count": 3,
      "outputs": []
    },
    {
      "cell_type": "code",
      "source": [
        "BiocManager::install(\"ggplot2\")"
      ],
      "metadata": {
        "colab": {
          "base_uri": "https://localhost:8080/"
        },
        "id": "ZxbA1GzlVD9E",
        "outputId": "050c7251-55e1-460b-f0c0-df7f0716bbf9"
      },
      "execution_count": 4,
      "outputs": [
        {
          "output_type": "stream",
          "name": "stderr",
          "text": [
            "'getOption(\"repos\")' replaces Bioconductor standard repositories, see\n",
            "'?repositories' for details\n",
            "\n",
            "replacement repositories:\n",
            "    CRAN: https://cran.rstudio.com\n",
            "\n",
            "\n",
            "Bioconductor version 3.14 (BiocManager 1.30.16), R 4.1.3 (2022-03-10)\n",
            "\n",
            "Warning message:\n",
            "“package(s) not installed when version(s) same as current; use `force = TRUE` to\n",
            "  re-install: 'ggplot2'”\n",
            "Old packages: 'blob', 'broom', 'haven', 'RColorBrewer', 'scales', 'vctrs'\n",
            "\n"
          ]
        }
      ]
    },
    {
      "cell_type": "code",
      "source": [
        "library(ggplot2)"
      ],
      "metadata": {
        "id": "z8t3exIeVOpW"
      },
      "execution_count": 5,
      "outputs": []
    },
    {
      "cell_type": "code",
      "source": [
        "query <- GDCquery(project = \"TCGA-PRAD\", \n",
        "                  data.category = \"Gene expression\",\n",
        "                  data.type = \"Gene expression quantification\",\n",
        "                  experimental.strategy = \"RNA-Seq\",\n",
        "                  platform = \"Illumina HiSeq\",\n",
        "                  file.type = \"results\",\n",
        "                  legacy = TRUE)"
      ],
      "metadata": {
        "colab": {
          "base_uri": "https://localhost:8080/"
        },
        "id": "fNJ4c6naDAHs",
        "outputId": "4aa0802d-7261-4bce-d752-0e86c92511e3"
      },
      "execution_count": 6,
      "outputs": [
        {
          "output_type": "stream",
          "name": "stderr",
          "text": [
            "--------------------------------------\n",
            "\n",
            "o GDCquery: Searching in GDC database\n",
            "\n",
            "--------------------------------------\n",
            "\n",
            "Genome of reference: hg19\n",
            "\n",
            "--------------------------------------------\n",
            "\n",
            "oo Accessing GDC. This might take a while...\n",
            "\n",
            "--------------------------------------------\n",
            "\n",
            "ooo Project: TCGA-PRAD\n",
            "\n",
            "--------------------\n",
            "\n",
            "oo Filtering results\n",
            "\n",
            "--------------------\n",
            "\n",
            "ooo By platform\n",
            "\n",
            "ooo By experimental.strategy\n",
            "\n",
            "ooo By data.type\n",
            "\n",
            "ooo By file.type\n",
            "\n",
            "----------------\n",
            "\n",
            "oo Checking data\n",
            "\n",
            "----------------\n",
            "\n",
            "ooo Check if there are duplicated cases\n",
            "\n",
            "ooo Check if there results for the query\n",
            "\n",
            "-------------------\n",
            "\n",
            "o Preparing output\n",
            "\n",
            "-------------------\n",
            "\n"
          ]
        }
      ]
    },
    {
      "cell_type": "code",
      "source": [
        "GDCdownload(query, method = \"api\", files.per.chunk = 100,\n",
        "            directory = \"/content/Data\")"
      ],
      "metadata": {
        "colab": {
          "base_uri": "https://localhost:8080/"
        },
        "id": "mxrqTei1DHiU",
        "outputId": "d53a4639-a177-4599-a3c2-5f7711528e14"
      },
      "execution_count": 7,
      "outputs": [
        {
          "output_type": "stream",
          "name": "stderr",
          "text": [
            "Downloading data for project TCGA-PRAD\n",
            "\n",
            "GDCdownload will download 550 files. A total of 834.121914 MB\n",
            "\n",
            "Downloading chunk 1 of 6 (100 files, size = 151.869266 MB) as Sun_Apr_17_15_52_11_2022_0.tar.gz\n",
            "\n"
          ]
        },
        {
          "output_type": "stream",
          "name": "stdout",
          "text": [
            "Downloading: 61 MB     "
          ]
        },
        {
          "output_type": "stream",
          "name": "stderr",
          "text": [
            "Downloading chunk 2 of 6 (100 files, size = 151.619367 MB) as Sun_Apr_17_15_52_11_2022_1.tar.gz\n",
            "\n"
          ]
        },
        {
          "output_type": "stream",
          "name": "stdout",
          "text": [
            "Downloading: 61 MB     "
          ]
        },
        {
          "output_type": "stream",
          "name": "stderr",
          "text": [
            "Downloading chunk 3 of 6 (100 files, size = 151.62918 MB) as Sun_Apr_17_15_52_11_2022_2.tar.gz\n",
            "\n"
          ]
        },
        {
          "output_type": "stream",
          "name": "stdout",
          "text": [
            "Downloading: 61 MB     "
          ]
        },
        {
          "output_type": "stream",
          "name": "stderr",
          "text": [
            "Downloading chunk 4 of 6 (100 files, size = 151.582944 MB) as Sun_Apr_17_15_52_11_2022_3.tar.gz\n",
            "\n"
          ]
        },
        {
          "output_type": "stream",
          "name": "stdout",
          "text": [
            "Downloading: 61 MB     "
          ]
        },
        {
          "output_type": "stream",
          "name": "stderr",
          "text": [
            "Downloading chunk 5 of 6 (100 files, size = 151.708686 MB) as Sun_Apr_17_15_52_11_2022_4.tar.gz\n",
            "\n"
          ]
        },
        {
          "output_type": "stream",
          "name": "stdout",
          "text": [
            "Downloading: 61 MB     "
          ]
        },
        {
          "output_type": "stream",
          "name": "stderr",
          "text": [
            "Downloading chunk 6 of 6 (50 files, size = 75.712471 MB) as Sun_Apr_17_15_52_11_2022_5.tar.gz\n",
            "\n"
          ]
        },
        {
          "output_type": "stream",
          "name": "stdout",
          "text": [
            "Downloading: 30 MB     "
          ]
        }
      ]
    },
    {
      "cell_type": "code",
      "source": [
        "mrna_df <- GDCprepare(query, directory = \"/content/Data\")"
      ],
      "metadata": {
        "colab": {
          "base_uri": "https://localhost:8080/"
        },
        "id": "4YWrdvp5EWRz",
        "outputId": "85b62896-feb3-4c98-f762-c33a65ad9fbb"
      },
      "execution_count": 8,
      "outputs": [
        {
          "output_type": "stream",
          "name": "stderr",
          "text": [
            "--------------------\n",
            "\n",
            "oo Reading 550 files\n",
            "\n",
            "--------------------\n",
            "\n"
          ]
        },
        {
          "output_type": "stream",
          "name": "stdout",
          "text": [
            "|====================================================|100%                      Completed after 11 s \n"
          ]
        },
        {
          "output_type": "stream",
          "name": "stderr",
          "text": [
            "--------------------\n",
            "\n",
            "oo Merging 550 files\n",
            "\n",
            "--------------------\n",
            "\n",
            "Starting to add information to samples\n",
            "\n",
            " => Add clinical information to samples\n",
            "\n",
            " => Adding TCGA molecular information from marker papers\n",
            "\n",
            " => Information will have prefix 'paper_' \n",
            "\n",
            "prad subtype information from:doi:10.1016/j.cell.2015.10.025\n",
            "\n"
          ]
        }
      ]
    },
    {
      "cell_type": "code",
      "source": [
        "mrna_meta <- mrna_df$sample"
      ],
      "metadata": {
        "id": "mPF0I6dYEptR"
      },
      "execution_count": 9,
      "outputs": []
    },
    {
      "cell_type": "code",
      "source": [
        "mrna_meta <- cbind(mrna_meta, mrna_df$definition)"
      ],
      "metadata": {
        "id": "yBANGIsaEvg4"
      },
      "execution_count": 10,
      "outputs": []
    },
    {
      "cell_type": "code",
      "source": [
        "BiocManager::install(\"SummarizedExperiment\")"
      ],
      "metadata": {
        "colab": {
          "base_uri": "https://localhost:8080/"
        },
        "id": "ChDzXdnBEy5e",
        "outputId": "60cd14c2-9b11-49b5-955c-6be66ae4bdcf"
      },
      "execution_count": 11,
      "outputs": [
        {
          "output_type": "stream",
          "name": "stderr",
          "text": [
            "'getOption(\"repos\")' replaces Bioconductor standard repositories, see\n",
            "'?repositories' for details\n",
            "\n",
            "replacement repositories:\n",
            "    CRAN: https://cran.rstudio.com\n",
            "\n",
            "\n",
            "Bioconductor version 3.14 (BiocManager 1.30.16), R 4.1.3 (2022-03-10)\n",
            "\n",
            "Warning message:\n",
            "“package(s) not installed when version(s) same as current; use `force = TRUE` to\n",
            "  re-install: 'SummarizedExperiment'”\n",
            "Old packages: 'blob', 'broom', 'haven', 'RColorBrewer', 'scales', 'vctrs'\n",
            "\n"
          ]
        }
      ]
    },
    {
      "cell_type": "code",
      "source": [
        "library(SummarizedExperiment)"
      ],
      "metadata": {
        "colab": {
          "base_uri": "https://localhost:8080/"
        },
        "id": "wfDdXlMeFCnn",
        "outputId": "24cdcec6-7e22-439e-81d2-f773e952d787"
      },
      "execution_count": 12,
      "outputs": [
        {
          "output_type": "stream",
          "name": "stderr",
          "text": [
            "Loading required package: MatrixGenerics\n",
            "\n",
            "Loading required package: matrixStats\n",
            "\n",
            "\n",
            "Attaching package: ‘MatrixGenerics’\n",
            "\n",
            "\n",
            "The following objects are masked from ‘package:matrixStats’:\n",
            "\n",
            "    colAlls, colAnyNAs, colAnys, colAvgsPerRowSet, colCollapse,\n",
            "    colCounts, colCummaxs, colCummins, colCumprods, colCumsums,\n",
            "    colDiffs, colIQRDiffs, colIQRs, colLogSumExps, colMadDiffs,\n",
            "    colMads, colMaxs, colMeans2, colMedians, colMins, colOrderStats,\n",
            "    colProds, colQuantiles, colRanges, colRanks, colSdDiffs, colSds,\n",
            "    colSums2, colTabulates, colVarDiffs, colVars, colWeightedMads,\n",
            "    colWeightedMeans, colWeightedMedians, colWeightedSds,\n",
            "    colWeightedVars, rowAlls, rowAnyNAs, rowAnys, rowAvgsPerColSet,\n",
            "    rowCollapse, rowCounts, rowCummaxs, rowCummins, rowCumprods,\n",
            "    rowCumsums, rowDiffs, rowIQRDiffs, rowIQRs, rowLogSumExps,\n",
            "    rowMadDiffs, rowMads, rowMaxs, rowMeans2, rowMedians, rowMins,\n",
            "    rowOrderStats, rowProds, rowQuantiles, rowRanges, rowRanks,\n",
            "    rowSdDiffs, rowSds, rowSums2, rowTabulates, rowVarDiffs, rowVars,\n",
            "    rowWeightedMads, rowWeightedMeans, rowWeightedMedians,\n",
            "    rowWeightedSds, rowWeightedVars\n",
            "\n",
            "\n",
            "Loading required package: GenomicRanges\n",
            "\n",
            "Loading required package: stats4\n",
            "\n",
            "Loading required package: BiocGenerics\n",
            "\n",
            "\n",
            "Attaching package: ‘BiocGenerics’\n",
            "\n",
            "\n",
            "The following objects are masked from ‘package:stats’:\n",
            "\n",
            "    IQR, mad, sd, var, xtabs\n",
            "\n",
            "\n",
            "The following objects are masked from ‘package:base’:\n",
            "\n",
            "    anyDuplicated, append, as.data.frame, basename, cbind, colnames,\n",
            "    dirname, do.call, duplicated, eval, evalq, Filter, Find, get, grep,\n",
            "    grepl, intersect, is.unsorted, lapply, Map, mapply, match, mget,\n",
            "    order, paste, pmax, pmax.int, pmin, pmin.int, Position, rank,\n",
            "    rbind, Reduce, rownames, sapply, setdiff, sort, table, tapply,\n",
            "    union, unique, unsplit, which.max, which.min\n",
            "\n",
            "\n",
            "Loading required package: S4Vectors\n",
            "\n",
            "\n",
            "Attaching package: ‘S4Vectors’\n",
            "\n",
            "\n",
            "The following objects are masked from ‘package:base’:\n",
            "\n",
            "    expand.grid, I, unname\n",
            "\n",
            "\n",
            "Loading required package: IRanges\n",
            "\n",
            "Loading required package: GenomeInfoDb\n",
            "\n",
            "Loading required package: Biobase\n",
            "\n",
            "Welcome to Bioconductor\n",
            "\n",
            "    Vignettes contain introductory material; view with\n",
            "    'browseVignettes()'. To cite Bioconductor, see\n",
            "    'citation(\"Biobase\")', and for packages 'citation(\"pkgname\")'.\n",
            "\n",
            "\n",
            "\n",
            "Attaching package: ‘Biobase’\n",
            "\n",
            "\n",
            "The following object is masked from ‘package:MatrixGenerics’:\n",
            "\n",
            "    rowMedians\n",
            "\n",
            "\n",
            "The following objects are masked from ‘package:matrixStats’:\n",
            "\n",
            "    anyMissing, rowMedians\n",
            "\n",
            "\n"
          ]
        }
      ]
    },
    {
      "cell_type": "code",
      "source": [
        "mrna_df <- assay(mrna_df)"
      ],
      "metadata": {
        "id": "H-T46TqDFE54"
      },
      "execution_count": 13,
      "outputs": []
    },
    {
      "cell_type": "code",
      "source": [
        "delim_fn = function(x, n, i){\n",
        "    do.call(c, lapply(x, function(X)\n",
        "        paste(unlist(strsplit(X, \"-\"))[(n+1):(i)], collapse = \"-\")))\n",
        "}"
      ],
      "metadata": {
        "id": "Ghz5fsA4FI0R"
      },
      "execution_count": 14,
      "outputs": []
    },
    {
      "cell_type": "code",
      "source": [
        "colnames(mrna_df) <- delim_fn(x = colnames(mrna_df), n = 0, i = 4)"
      ],
      "metadata": {
        "id": "_qnEL35MFLRN"
      },
      "execution_count": 15,
      "outputs": []
    },
    {
      "cell_type": "code",
      "source": [
        "mrna_meta <- as.data.frame(mrna_meta)\n",
        "mrna_df <- as.data.frame(mrna_df)"
      ],
      "metadata": {
        "id": "DHbQsgyLFNLo"
      },
      "execution_count": 16,
      "outputs": []
    },
    {
      "cell_type": "code",
      "source": [
        "metastatic_key <- mrna_meta[which(mrna_meta[,2] == \"Metastatic\"),]\n",
        "mrna_meta <- mrna_meta[!mrna_meta[,2] == metastatic_key[,2],]\n",
        "mrna_df <- mrna_df[, -grep(paste0(metastatic_key[,1]), colnames(mrna_df))]"
      ],
      "metadata": {
        "id": "hVuMJvKyFQ3R"
      },
      "execution_count": 17,
      "outputs": []
    },
    {
      "cell_type": "code",
      "source": [
        "mrna_meta[,2] <- as.character(mrna_meta[,2])"
      ],
      "metadata": {
        "id": "hteTUGmgFXLp"
      },
      "execution_count": 18,
      "outputs": []
    },
    {
      "cell_type": "code",
      "source": [
        "mrna_meta[,2] <- gsub(\"Primary solid Tumor\", \"Tumor\", mrna_meta[,2])\n",
        "mrna_meta[,2] <- gsub(\"Solid Tissue Normal\", \"Normal\", mrna_meta[,2])\n",
        "mrna_meta[,2] <- as.factor(mrna_meta[,2])\n",
        "levels(mrna_meta[,2])\n",
        "colnames(mrna_meta) <- c(\"cases\", \"Condition\")"
      ],
      "metadata": {
        "colab": {
          "base_uri": "https://localhost:8080/",
          "height": 34
        },
        "id": "nuck1srJFZmU",
        "outputId": "f589fac8-4aee-4282-84ad-9d0a1a262bec"
      },
      "execution_count": 19,
      "outputs": [
        {
          "output_type": "display_data",
          "data": {
            "text/html": [
              "<style>\n",
              ".list-inline {list-style: none; margin:0; padding: 0}\n",
              ".list-inline>li {display: inline-block}\n",
              ".list-inline>li:not(:last-child)::after {content: \"\\00b7\"; padding: 0 .5ex}\n",
              "</style>\n",
              "<ol class=list-inline><li>'Normal'</li><li>'Tumor'</li></ol>\n"
            ],
            "text/markdown": "1. 'Normal'\n2. 'Tumor'\n\n\n",
            "text/latex": "\\begin{enumerate*}\n\\item 'Normal'\n\\item 'Tumor'\n\\end{enumerate*}\n",
            "text/plain": [
              "[1] \"Normal\" \"Tumor\" "
            ]
          },
          "metadata": {}
        }
      ]
    },
    {
      "cell_type": "code",
      "source": [
        "BiocManager::install(\"DESeq2\")"
      ],
      "metadata": {
        "colab": {
          "base_uri": "https://localhost:8080/"
        },
        "id": "C2KpF5mEFlLC",
        "outputId": "b73726bb-7177-4c70-ffff-0754532b698e"
      },
      "execution_count": 20,
      "outputs": [
        {
          "output_type": "stream",
          "name": "stderr",
          "text": [
            "'getOption(\"repos\")' replaces Bioconductor standard repositories, see\n",
            "'?repositories' for details\n",
            "\n",
            "replacement repositories:\n",
            "    CRAN: https://cran.rstudio.com\n",
            "\n",
            "\n",
            "Bioconductor version 3.14 (BiocManager 1.30.16), R 4.1.3 (2022-03-10)\n",
            "\n",
            "Installing package(s) 'DESeq2'\n",
            "\n",
            "also installing the dependencies ‘formatR’, ‘lambda.r’, ‘futile.options’, ‘xtable’, ‘futile.logger’, ‘snow’, ‘BH’, ‘annotate’, ‘BiocParallel’, ‘genefilter’, ‘locfit’, ‘geneplotter’, ‘RcppArmadillo’\n",
            "\n",
            "\n",
            "Old packages: 'blob', 'broom', 'haven', 'RColorBrewer', 'scales', 'vctrs'\n",
            "\n"
          ]
        }
      ]
    },
    {
      "cell_type": "code",
      "source": [
        "write.table(mrna_df, \"/content/Results/mrna_df.txt\", quote = F, sep = \"\\t\")"
      ],
      "metadata": {
        "id": "U4x7Mqmdd5nV"
      },
      "execution_count": 81,
      "outputs": []
    },
    {
      "cell_type": "code",
      "source": [
        "write.table(mrna_meta, \"/content/Results/mrna_meta.txt\", quote = F, sep = \"\\t\")"
      ],
      "metadata": {
        "id": "M9Z7VHydeOaT"
      },
      "execution_count": 83,
      "outputs": []
    },
    {
      "cell_type": "code",
      "source": [
        "library(DESeq2)"
      ],
      "metadata": {
        "id": "1XHEhmRXGS_q"
      },
      "execution_count": 21,
      "outputs": []
    },
    {
      "cell_type": "code",
      "source": [
        "mrna_dds <- DESeqDataSetFromMatrix(round(mrna_df), colData = mrna_meta, design = ~ Condition)"
      ],
      "metadata": {
        "colab": {
          "base_uri": "https://localhost:8080/"
        },
        "id": "HzR7aUHiGYrG",
        "outputId": "b7098e18-e6d5-4689-9f7d-8ce00743c59a"
      },
      "execution_count": 22,
      "outputs": [
        {
          "output_type": "stream",
          "name": "stderr",
          "text": [
            "converting counts to integer mode\n",
            "\n"
          ]
        }
      ]
    },
    {
      "cell_type": "code",
      "source": [
        "mrna_dds$Condition <- relevel(mrna_dds$Condition, ref = \"Normal\")"
      ],
      "metadata": {
        "id": "RLaCduaeGjPQ"
      },
      "execution_count": 23,
      "outputs": []
    },
    {
      "cell_type": "code",
      "source": [
        "mrna_dds <- DESeq(mrna_dds)"
      ],
      "metadata": {
        "colab": {
          "base_uri": "https://localhost:8080/"
        },
        "id": "ZjDTyGb0GoZQ",
        "outputId": "55ee5d72-746b-4870-cddb-72ae32a95caa"
      },
      "execution_count": 24,
      "outputs": [
        {
          "output_type": "stream",
          "name": "stderr",
          "text": [
            "estimating size factors\n",
            "\n",
            "estimating dispersions\n",
            "\n",
            "gene-wise dispersion estimates\n",
            "\n",
            "mean-dispersion relationship\n",
            "\n",
            "final dispersion estimates\n",
            "\n",
            "fitting model and testing\n",
            "\n",
            "-- replacing outliers and refitting for 1439 genes\n",
            "-- DESeq argument 'minReplicatesForReplace' = 7 \n",
            "-- original counts are preserved in counts(dds)\n",
            "\n",
            "estimating dispersions\n",
            "\n",
            "fitting model and testing\n",
            "\n"
          ]
        }
      ]
    },
    {
      "cell_type": "code",
      "source": [
        "resultsNames(mrna_dds)"
      ],
      "metadata": {
        "colab": {
          "base_uri": "https://localhost:8080/",
          "height": 34
        },
        "id": "If8YxYkBHdBP",
        "outputId": "13a0cf70-b3e2-4df8-e5c0-076968a0b40c"
      },
      "execution_count": 25,
      "outputs": [
        {
          "output_type": "display_data",
          "data": {
            "text/html": [
              "<style>\n",
              ".list-inline {list-style: none; margin:0; padding: 0}\n",
              ".list-inline>li {display: inline-block}\n",
              ".list-inline>li:not(:last-child)::after {content: \"\\00b7\"; padding: 0 .5ex}\n",
              "</style>\n",
              "<ol class=list-inline><li>'Intercept'</li><li>'Condition_Tumor_vs_Normal'</li></ol>\n"
            ],
            "text/markdown": "1. 'Intercept'\n2. 'Condition_Tumor_vs_Normal'\n\n\n",
            "text/latex": "\\begin{enumerate*}\n\\item 'Intercept'\n\\item 'Condition\\_Tumor\\_vs\\_Normal'\n\\end{enumerate*}\n",
            "text/plain": [
              "[1] \"Intercept\"                 \"Condition_Tumor_vs_Normal\""
            ]
          },
          "metadata": {}
        }
      ]
    },
    {
      "cell_type": "code",
      "source": [
        "# Plot Dispersions:\n",
        "plotDispEsts(mrna_dds, main=\"Dispersion plot\")\n",
        "dev.off()"
      ],
      "metadata": {
        "colab": {
          "base_uri": "https://localhost:8080/",
          "height": 454
        },
        "id": "0Y1n8_sh2qnY",
        "outputId": "b2be6a24-220d-482f-a34a-a61e97a1fc67"
      },
      "execution_count": 61,
      "outputs": [
        {
          "output_type": "display_data",
          "data": {
            "text/html": [
              "<strong>png:</strong> 3"
            ],
            "text/markdown": "**png:** 3",
            "text/latex": "\\textbf{png:} 3",
            "text/plain": [
              "png \n",
              "  3 "
            ]
          },
          "metadata": {}
        },
        {
          "output_type": "display_data",
          "data": {
            "text/plain": [
              "Plot with title “Dispersion plot”"
            ],
            "image/png": "[encoded data removed]"
          },
          "metadata": {
            "image/png": {
              "width": 420,
              "height": 420
            }
          }
        }
      ]
    },
    {
      "cell_type": "code",
      "source": [
        "mrna_res <- results(mrna_dds, name = \"Condition_Tumor_vs_Normal\")"
      ],
      "metadata": {
        "id": "k4Wgwv5jHhTx"
      },
      "execution_count": 38,
      "outputs": []
    },
    {
      "cell_type": "code",
      "source": [
        "?results"
      ],
      "metadata": {
        "id": "L-Veke1AUrBC"
      },
      "execution_count": 37,
      "outputs": []
    },
    {
      "cell_type": "code",
      "source": [
        "mrna_res_df <- as.data.frame(mrna_res)"
      ],
      "metadata": {
        "id": "AazhRvpyHwPc"
      },
      "execution_count": 28,
      "outputs": []
    },
    {
      "cell_type": "code",
      "source": [
        "mrnaTable <- mrna_res_df"
      ],
      "metadata": {
        "id": "-K-9nFvnVhoh"
      },
      "execution_count": 42,
      "outputs": []
    },
    {
      "cell_type": "code",
      "source": [
        "mrnaTable$Gene_id <- rownames(mrnaTable)"
      ],
      "metadata": {
        "id": "94ighOJsVxxt"
      },
      "execution_count": 45,
      "outputs": []
    },
    {
      "cell_type": "code",
      "source": [
        "write.table(mrnaTable, \"/content/Results/mrna_res_df.txt\", quote = F, sep = \"\\t\")"
      ],
      "metadata": {
        "id": "ycjzWeB3VL32"
      },
      "execution_count": 47,
      "outputs": []
    },
    {
      "cell_type": "code",
      "source": [
        "summary(mrna_res)"
      ],
      "metadata": {
        "colab": {
          "base_uri": "https://localhost:8080/"
        },
        "id": "Vf5qIRGiHqno",
        "outputId": "c9178fea-416b-4ca7-f8e8-a0d557c104ad"
      },
      "execution_count": 48,
      "outputs": [
        {
          "output_type": "stream",
          "name": "stdout",
          "text": [
            "\n",
            "out of 19669 with nonzero total read count\n",
            "adjusted p-value < 0.1\n",
            "LFC > 0 (up)       : 6878, 35%\n",
            "LFC < 0 (down)     : 6338, 32%\n",
            "outliers [1]       : 0, 0%\n",
            "low counts [2]     : 0, 0%\n",
            "(mean count < 0)\n",
            "[1] see 'cooksCutoff' argument of ?results\n",
            "[2] see 'independentFiltering' argument of ?results\n",
            "\n"
          ]
        }
      ]
    },
    {
      "cell_type": "code",
      "source": [
        "get_upregulated <- function(df){\n",
        "    key <- intersect(rownames(df)[which(df$log2FoldChange>=1)],\n",
        "              rownames(df)[which(df$pvalue<=0.05)])\n",
        "    \n",
        "    results <- as.data.frame((df)[which(rownames(df) %in% key),])\n",
        "    return(results)\n",
        "  }"
      ],
      "metadata": {
        "id": "J8yRQplwI872"
      },
      "execution_count": 49,
      "outputs": []
    },
    {
      "cell_type": "code",
      "source": [
        "get_downregulated <- function(df){\n",
        "  key <- intersect(rownames(df)[which(df$log2FoldChange<=-1)],\n",
        "            rownames(df)[which(df$pvalue<=0.05)])\n",
        "  \n",
        "  results <- as.data.frame((df)[which(rownames(df) %in% key),])\n",
        "  return(results)\n",
        "}"
      ],
      "metadata": {
        "id": "qqv1oPvUJAIW"
      },
      "execution_count": 50,
      "outputs": []
    },
    {
      "cell_type": "code",
      "source": [
        "mrna_upreg <- get_upregulated(mrna_res)"
      ],
      "metadata": {
        "id": "Ra1b4ZkCJD77"
      },
      "execution_count": 51,
      "outputs": []
    },
    {
      "cell_type": "code",
      "source": [
        "mrna_downreg <- get_downregulated(mrna_res)"
      ],
      "metadata": {
        "id": "PVyA1wTvJGCb"
      },
      "execution_count": 52,
      "outputs": []
    },
    {
      "cell_type": "code",
      "source": [
        "mrna_counts <- counts(mrna_dds, normalized = T)"
      ],
      "metadata": {
        "id": "WD-xItjBJI_3"
      },
      "execution_count": 53,
      "outputs": []
    },
    {
      "cell_type": "code",
      "source": [
        "mrna_upreg$Gene_id <- rownames(mrna_upreg)"
      ],
      "metadata": {
        "id": "LJAXWJVQKa9s"
      },
      "execution_count": 54,
      "outputs": []
    },
    {
      "cell_type": "code",
      "source": [
        "mrna_downreg$Gene_id <- rownames(mrna_downreg)"
      ],
      "metadata": {
        "id": "fHqADzNtKfHU"
      },
      "execution_count": 55,
      "outputs": []
    },
    {
      "cell_type": "code",
      "source": [
        "mrna_res_df$Gene_id <- rownames(mrna_res_df)"
      ],
      "metadata": {
        "id": "4Td8q1lLWHky"
      },
      "execution_count": 56,
      "outputs": []
    },
    {
      "cell_type": "code",
      "source": [
        "write.table(mrna_counts, \"/content/Results/mRNA_norm.counts.txt\", quote = F, sep = \"\\t\")"
      ],
      "metadata": {
        "id": "XzadSEvvJOIq"
      },
      "execution_count": 57,
      "outputs": []
    },
    {
      "cell_type": "code",
      "source": [
        "write.table(mrna_res_df, \"/content/Results/mrna_res_deseq2.txt\", quote = F, sep = \"\\t\")"
      ],
      "metadata": {
        "id": "X5ltTRW9VmwK"
      },
      "execution_count": 58,
      "outputs": []
    },
    {
      "cell_type": "code",
      "source": [
        "write.table(mrna_upreg, \"/content/Results/mRNA_upreg.txt\", quote = F, sep = \"\\t\", row.names = F)\n",
        "write.table(mrna_downreg, \"/content/Results/mRNA_downreg.txt\", quote = F, sep = \"\\t\", row.names = F)"
      ],
      "metadata": {
        "id": "30aK64HeJkFb"
      },
      "execution_count": 59,
      "outputs": []
    },
    {
      "cell_type": "code",
      "source": [
        "par(mfrow=c(1,1))"
      ],
      "metadata": {
        "id": "USjr0shQOeJw"
      },
      "execution_count": 68,
      "outputs": []
    },
    {
      "cell_type": "code",
      "source": [
        "with(mrna_res, plot(log2FoldChange, -log10(pvalue), pch=20, main=\"Volcano plot\", xlim=c(-3,3)))\n",
        "with(subset(mrna_res, padj<0.05 ), points(log2FoldChange, -log10(pvalue), pch=20, col=\"blue\"))\n",
        "with(subset(mrna_res, padj<0.05 & abs(log2FoldChange)>1.5), points(log2FoldChange, -log10(pvalue), pch=20, col=\"red\"))"
      ],
      "metadata": {
        "colab": {
          "base_uri": "https://localhost:8080/",
          "height": 437
        },
        "id": "AC7a4TU1OlOp",
        "outputId": "9ca22937-a409-4fb0-979f-8bc950919f2a"
      },
      "execution_count": 80,
      "outputs": [
        {
          "output_type": "display_data",
          "data": {
            "text/plain": [
              "Plot with title “Volcano plot”"
            ],
            "image/png": "[encoded data removed]"
          },
          "metadata": {
            "image/png": {
              "width": 420,
              "height": 420
            }
          }
        }
      ]
    }
  ]
}